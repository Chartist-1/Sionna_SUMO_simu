{
 "cells": [
  {
   "cell_type": "code",
   "execution_count": 30,
   "id": "51e38221-b349-4815-8485-113a736d2eee",
   "metadata": {},
   "outputs": [],
   "source": [
    "# Import or install Sionna\n",
    "try:\n",
    "    import sionna.rt\n",
    "except ImportError as e:\n",
    "    import os\n",
    "    os.system(\"pip install sionna-rt\")\n",
    "    import sionna.rt\n",
    "from sionna.rt import cpx_abs_square\n",
    "\n",
    "# Other imports\n",
    "%matplotlib inline\n",
    "import matplotlib.pyplot as plt\n",
    "import numpy as np\n",
    "\n",
    "no_preview = False # Toggle to False to use the preview widget\n",
    "\n",
    "# Import relevant components from Sionna RT\n",
    "from sionna.rt import load_scene, PlanarArray, Transmitter, Receiver, Camera,\\\n",
    "                      PathSolver, RadioMapSolver, subcarrier_frequencies"
   ]
  },
  {
   "cell_type": "code",
   "execution_count": 50,
   "id": "f665583e-2f0d-4fb0-afbb-4ab5efe7b41c",
   "metadata": {},
   "outputs": [],
   "source": [
    "scene = load_scene(sionna.rt.scene.munich, merge_shapes=True) # Merge shapes to speed-up computations\n",
    "\n",
    "# Configure antenna array for all transmitters\n",
    "scene.tx_array = PlanarArray(num_rows=1,\n",
    "                             num_cols=1,\n",
    "                             vertical_spacing=0.5,\n",
    "                             horizontal_spacing=0.5,\n",
    "                             pattern=\"tr38901\",\n",
    "                             polarization=\"V\")\n",
    "\n",
    "# Configure antenna array for all receivers\n",
    "scene.rx_array = PlanarArray(num_rows=1,\n",
    "                             num_cols=1,\n",
    "                             vertical_spacing=0.5,\n",
    "                             horizontal_spacing=0.5,\n",
    "                             pattern=\"dipole\",\n",
    "                             polarization=\"cross\",\n",
    "                             )\n",
    "\n",
    "# Create transmitter\n",
    "tx = Transmitter(name=\"tx\",\n",
    "                 position=[500,21,10],\n",
    "                 display_radius=10)\n",
    "\n",
    "# Add transmitter instance to scene\n",
    "scene.add(tx)\n",
    "\n",
    "# Create a receiver\n",
    "rx = Receiver(name=\"rx\",\n",
    "              position=[45,90,1.5],\n",
    "              display_radius=10)\n",
    "\n",
    "# Add receiver instance to scene\n",
    "scene.add(rx)\n",
    "\n",
    "tx.look_at(rx) # Transmitter points towards receiver"
   ]
  },
  {
   "cell_type": "code",
   "execution_count": 51,
   "id": "c4cfc8d2-5003-4db8-a3d5-54d28e22eb85",
   "metadata": {},
   "outputs": [],
   "source": [
    "# Instantiate a path solver\n",
    "# The same path solver can be used with multiple scenes\n",
    "p_solver  = PathSolver()\n",
    "\n",
    "# Compute propagation paths\n",
    "paths = p_solver(scene=scene,\n",
    "                 max_depth=5,\n",
    "                 los=True,\n",
    "                 specular_reflection=True,\n",
    "                 diffuse_reflection=False,\n",
    "                 refraction=True,\n",
    "                 synthetic_array=False,\n",
    "                 seed=41)"
   ]
  },
  {
   "cell_type": "code",
   "execution_count": 52,
   "id": "483af62c-88d6-4d63-acbf-4064af4516ec",
   "metadata": {},
   "outputs": [
    {
     "data": {
      "application/vnd.jupyter.widget-view+json": {
       "model_id": "30e8288256ab4391a7b02f7424c1cddb",
       "version_major": 2,
       "version_minor": 0
      },
      "text/plain": [
       "HBox(children=(Renderer(camera=PerspectiveCamera(aspect=1.31, children=(DirectionalLight(intensity=0.25, posit…"
      ]
     },
     "metadata": {},
     "output_type": "display_data"
    }
   ],
   "source": [
    "if no_preview:\n",
    "    scene.render(camera=my_cam, paths=paths, clip_at=20);\n",
    "else:\n",
    "    scene.preview(paths=paths, clip_at=20);"
   ]
  },
  {
   "cell_type": "code",
   "execution_count": 53,
   "id": "aa09c9b1-b15e-4bc3-b8d0-2955bfe0f2ed",
   "metadata": {},
   "outputs": [
    {
     "name": "stdout",
     "output_type": "stream",
     "text": [
      "Total power (dB): -inf\n"
     ]
    },
    {
     "name": "stderr",
     "output_type": "stream",
     "text": [
      "/tmp/ipykernel_6285/1450989546.py:3: RuntimeWarning: divide by zero encountered in log10\n",
      "  print(\"Total power (dB):\", 10 * np.log10(total_power))\n"
     ]
    }
   ],
   "source": [
    "a,_ = paths.cir(normalize_delays = True, out_type = 'numpy')\n",
    "total_power = np.sum(np.abs(a)**2)\n",
    "print(\"Total power (dB):\", 10 * np.log10(total_power))"
   ]
  },
  {
   "cell_type": "code",
   "execution_count": 18,
   "id": "d6edebcf-459b-4bf6-ad0d-585609a54aa6",
   "metadata": {},
   "outputs": [
    {
     "ename": "IndexError",
     "evalue": "index 1 is out of bounds for axis 0 with size 1",
     "output_type": "error",
     "traceback": [
      "\u001b[31m---------------------------------------------------------------------------\u001b[39m",
      "\u001b[31mIndexError\u001b[39m                                Traceback (most recent call last)",
      "\u001b[36mCell\u001b[39m\u001b[36m \u001b[39m\u001b[32mIn[18]\u001b[39m\u001b[32m, line 1\u001b[39m\n\u001b[32m----> \u001b[39m\u001b[32m1\u001b[39m path_powers = \u001b[43mcpx_abs_square\u001b[49m\u001b[43m(\u001b[49m\u001b[43ma\u001b[49m\u001b[43m)\u001b[49m\n\u001b[32m      2\u001b[39m gain = \u001b[38;5;28msum\u001b[39m(\u001b[38;5;28msum\u001b[39m(path_powers))\n\u001b[32m      3\u001b[39m \u001b[38;5;28mprint\u001b[39m(gain)\n",
      "\u001b[36mFile \u001b[39m\u001b[32m~/Desktop/sionna/sionna-venv/lib/python3.12/site-packages/sionna/rt/utils/complex.py:108\u001b[39m, in \u001b[36mcpx_abs_square\u001b[39m\u001b[34m(x)\u001b[39m\n\u001b[32m     98\u001b[39m \u001b[38;5;28;01mdef\u001b[39;00m\u001b[38;5;250m \u001b[39m\u001b[34mcpx_abs_square\u001b[39m(\n\u001b[32m     99\u001b[39m     x: Tuple[mi.TensorXf, mi.TensorXf]\n\u001b[32m    100\u001b[39m ) -> mi.TensorXf:\n\u001b[32m    101\u001b[39m \u001b[38;5;250m    \u001b[39m\u001b[33mr\u001b[39m\u001b[33;03m\"\"\"Element-wise absolute squared value of a complex-valued tensor\u001b[39;00m\n\u001b[32m    102\u001b[39m \n\u001b[32m    103\u001b[39m \u001b[33;03m    The tensor is represented as a tuple of two real-valued tensors,\u001b[39;00m\n\u001b[32m   (...)\u001b[39m\u001b[32m    106\u001b[39m \u001b[33;03m    :param x: A tensor\u001b[39;00m\n\u001b[32m    107\u001b[39m \u001b[33;03m    \"\"\"\u001b[39;00m\n\u001b[32m--> \u001b[39m\u001b[32m108\u001b[39m     \u001b[38;5;28;01mreturn\u001b[39;00m dr.square(x[\u001b[32m0\u001b[39m]) + dr.square(\u001b[43mx\u001b[49m\u001b[43m[\u001b[49m\u001b[32;43m1\u001b[39;49m\u001b[43m]\u001b[49m)\n",
      "\u001b[31mIndexError\u001b[39m: index 1 is out of bounds for axis 0 with size 1"
     ]
    }
   ],
   "source": [
    "path_powers = cpx_abs_square(a)\n",
    "gain = sum(sum(path_powers))\n",
    "print(gain)\n"
   ]
  },
  {
   "cell_type": "code",
   "execution_count": 8,
   "id": "785029b5-d6a5-4f41-bc57-1846baf7df09",
   "metadata": {},
   "outputs": [
    {
     "data": {
      "image/png": "[encoded data removed]",
      "text/plain": [
       "<Figure size 640x480 with 1 Axes>"
      ]
     },
     "metadata": {},
     "output_type": "display_data"
    }
   ],
   "source": [
    "t = tau[0,0,0,0,:]/1e-9 # Scale to ns\n",
    "a_abs = np.abs(a)[0,0,0,0,:,0]\n",
    "a_max = np.max(a_abs)\n",
    "\n",
    "# And plot the CIR\n",
    "plt.figure()\n",
    "plt.title(\"Channel impulse response\")\n",
    "plt.stem(t, a_abs)\n",
    "plt.xlabel(r\"$\\tau$ [ns]\")\n",
    "plt.ylabel(r\"$|a|$\");"
   ]
  }
 ],
 "metadata": {
  "kernelspec": {
   "display_name": "Python 3 (ipykernel)",
   "language": "python",
   "name": "python3"
  },
  "language_info": {
   "codemirror_mode": {
    "name": "ipython",
    "version": 3
   },
   "file_extension": ".py",
   "mimetype": "text/x-python",
   "name": "python",
   "nbconvert_exporter": "python",
   "pygments_lexer": "ipython3",
   "version": "3.12.3"
  }
 },
 "nbformat": 4,
 "nbformat_minor": 5
}
