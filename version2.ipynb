{
 "cells": [
  {
   "cell_type": "code",
   "execution_count": 22,
   "id": "acf9ca18-58e3-4118-a8cd-5e3081dd6a99",
   "metadata": {},
   "outputs": [],
   "source": [
    "%matplotlib inline\n",
    "import matplotlib.pyplot as plt\n",
    "from xml_script import select_car_frames, longest_car_id\n",
    "\n",
    "import drjit as dr\n",
    "import mitsuba as mi\n",
    "import numpy as np\n",
    "import xml.etree.ElementTree as ET\n",
    "\n",
    "# Import or install Sionna\n",
    "try:\n",
    "    import sionna.rt\n",
    "except ImportError as e:\n",
    "    import os\n",
    "    os.system(\"pip install sionna-rt\")\n",
    "    import sionna.rt\n",
    "\n",
    "no_preview = False # Toggle to False to use the preview widget\n",
    "                  # instead of rendering for scene visualization\n",
    "\n",
    "from sionna.rt import load_scene, PlanarArray, Transmitter, Receiver, Camera,\\\n",
    "                      PathSolver, ITURadioMaterial, SceneObject"
   ]
  },
  {
   "cell_type": "code",
   "execution_count": 23,
   "id": "5931e73b-0e0e-49ff-bdd9-e810245b84c9",
   "metadata": {},
   "outputs": [
    {
     "data": {
      "application/vnd.jupyter.widget-view+json": {
       "model_id": "7c06adacad2c4a43b4e0e0af47766224",
       "version_major": 2,
       "version_minor": 0
      },
      "text/plain": [
       "HBox(children=(Renderer(camera=PerspectiveCamera(aspect=1.31, children=(DirectionalLight(intensity=0.25, posit…"
      ]
     },
     "metadata": {},
     "output_type": "display_data"
    }
   ],
   "source": [
    "scene = load_scene('scenario2/mitsuba_scenario2.xml') # Objects are merged by default\n",
    "# Configure antenna array for all transmitters\n",
    "scene.tx_array = PlanarArray(num_rows=1,\n",
    "                             num_cols=1,\n",
    "                             vertical_spacing=0.5,\n",
    "                             horizontal_spacing=0.5,\n",
    "                             pattern=\"iso\",\n",
    "                             polarization=\"V\")\n",
    "\n",
    "# Configure antenna array for all receivers\n",
    "scene.rx_array = PlanarArray(num_rows=1,\n",
    "                             num_cols=1,\n",
    "                             vertical_spacing=0.5,\n",
    "                             horizontal_spacing=0.5,\n",
    "                             pattern=\"iso\",\n",
    "                             polarization=\"cross\",\n",
    "                             )\n",
    "\n",
    "# Create transmitter\n",
    "\n",
    "car_material = ITURadioMaterial(\"car-material\",\n",
    "                                \"metal\",\n",
    "                                thickness=0.01,\n",
    "                                color=(0.8, 0.1, 0.1))\n",
    "\n",
    "scene.preview();\n"
   ]
  },
  {
   "cell_type": "code",
   "execution_count": 24,
   "id": "ee8f5d28",
   "metadata": {},
   "outputs": [],
   "source": [
    "\n",
    "X_max = 2183.28\n",
    "Y_max = 2763.64\n",
    "\n",
    "# car = SceneObject(fname=sionna.rt.scene.low_poly_car, name='car',radio_material=car_material)\n",
    "# scene.edit(add=car)\n",
    "# car.position = mi.Point3f(34.81-X_max/2, 438.98 -Y_max/2,2)\n",
    "car_material = ITURadioMaterial(\"car-material\",\n",
    "                                \"metal\",\n",
    "                                thickness=0.01,\n",
    "                                color=(0.8, 0.1, 0.1))\n"
   ]
  },
  {
   "cell_type": "code",
   "execution_count": null,
   "id": "ca48b92e",
   "metadata": {},
   "outputs": [
    {
     "name": "stdout",
     "output_type": "stream",
     "text": [
      "3439.0\n",
      "Paths calculated\n",
      "cannot unpack non-iterable NoneType object\n",
      "3440.0\n",
      "Paths calculated\n",
      "cannot unpack non-iterable NoneType object\n",
      "3441.0\n"
     ]
    }
   ],
   "source": [
    "\n",
    "filename = 'scenario2/data_cars.xml'\n",
    "tree  = ET.parse(filename)\n",
    "root = tree.getroot()\n",
    "# car_id = f'{longest_car_id(filename = filename)}'\n",
    "car_id = '893'\n",
    "start_frame, stop_frame = select_car_frames(filename = filename, car_id=car_id)\n",
    "\n",
    "for stamp in root:\n",
    "    vehicle = stamp.find('vehicle')\n",
    "    \n",
    "    if (vehicle!=None) and (float(stamp.attrib.get('time')) >= start_frame) and (float(stamp.attrib.get('time')) <= stop_frame):\n",
    "        print(float(stamp.attrib.get('time')))\n",
    "        veh_arr=[]\n",
    "        for i in range(len(stamp)):\n",
    "            veh_arr.append({'vehId':int(stamp[i].attrib.get('id')[3:]),\n",
    "                        'x_coor': float(stamp[i].attrib.get('x')),\n",
    "                        'y_coor': float(stamp[i].attrib.get('y')),\n",
    "                        'angle' :float(stamp[i].attrib.get('angle'))})\n",
    "                \n",
    "\n",
    "        cars = [SceneObject(fname=sionna.rt.scene.low_poly_car,name=f'car{veh_arr[i]['vehId']}',radio_material=car_material) for i in range(len(veh_arr))]\n",
    "        for i in range(len(veh_arr)):\n",
    "            if int(veh_arr[i].get('vehId')) == int(car_id):\n",
    "                main_car_id = i\n",
    "                break\n",
    "        cam = Camera(position=[veh_arr[main_car_id]['x_coor']-X_max/2,veh_arr[main_car_id]['y_coor']-Y_max/2,50],look_at=[veh_arr[main_car_id]['x_coor']-X_max/2,veh_arr[main_car_id]['y_coor']-Y_max/2,0])\n",
    "        scene.edit(add=cars)\n",
    "\n",
    "        tx_arr=[]\n",
    "        for i in range(len(veh_arr)):\n",
    "            cars[i].position = mi.Point3f(veh_arr[i]['x_coor']-X_max/2, veh_arr[i]['y_coor'] - Y_max/2, 1)\n",
    "            cars[i].orientation = mi.Point3f(float(-np.radians(veh_arr[i]['angle']+90)),0,0)\n",
    "            cars[i].scaling = mi.Float(1.5)\n",
    "            \n",
    "            \n",
    "            if i == main_car_id:\n",
    "                scene.add(Receiver(f'rx-{i}',position=[veh_arr[i]['x_coor']-X_max/2, veh_arr[i]['y_coor'] - Y_max/2, 3],display_radius=2))\n",
    "            else:\n",
    "                scene.add(Transmitter(f'tx-{i}', position=[veh_arr[i]['x_coor']-X_max/2, veh_arr[i]['y_coor'] - Y_max/2, 3],display_radius=2))\n",
    "        p_solver = PathSolver()\n",
    "        paths = p_solver(scene=scene,\n",
    "                         max_depth=1,\n",
    "                         los=True,\n",
    "                         specular_reflection=False,\n",
    "                         diffuse_reflection=False,\n",
    "                         refraction=False,\n",
    "                         synthetic_array=False,\n",
    "                         seed=42)\n",
    "        print('Paths calculated')\n",
    "        try:\n",
    "            scene.render_to_file(camera='preview',\n",
    "                             filename=f'scenario2/render1/frame{stamp.attrib.get('time')}.png',\n",
    "                             resolution=[650,500],\n",
    "                             paths=paths);\n",
    "        except Exception as e:\n",
    "            print(e)\n",
    "            scene.render_to_file(camera='preview',\n",
    "                             filename=f'scenario2/render1/frame{stamp.attrib.get('time')}.png',\n",
    "                             resolution=[650,500]);\n",
    "        for i in range(len(veh_arr)):\n",
    "            scene.remove(f'tx-{i}')\n",
    "            if i == main_car_id:\n",
    "                scene.remove(f'rx-{i}')\n",
    "        scene.edit(remove=cars)  \n",
    "            "
   ]
  }
 ],
 "metadata": {
  "kernelspec": {
   "display_name": "sionna-venv",
   "language": "python",
   "name": "python3"
  },
  "language_info": {
   "codemirror_mode": {
    "name": "ipython",
    "version": 3
   },
   "file_extension": ".py",
   "mimetype": "text/x-python",
   "name": "python",
   "nbconvert_exporter": "python",
   "pygments_lexer": "ipython3",
   "version": "3.12.3"
  }
 },
 "nbformat": 4,
 "nbformat_minor": 5
}
